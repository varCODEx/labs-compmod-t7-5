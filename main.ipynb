{
 "cells": [
  {
   "cell_type": "code",
   "execution_count": 291,
   "metadata": {
    "collapsed": true,
    "ExecuteTime": {
     "end_time": "2024-01-02T19:23:01.904414100Z",
     "start_time": "2024-01-02T19:23:01.859472300Z"
    }
   },
   "outputs": [],
   "source": [
    "import pandas as pd\n",
    "import numpy as np\n",
    "import statsmodels.api as sm\n",
    "import itertools\n",
    "\n",
    "from simulate import init, simulate_n_times"
   ]
  },
  {
   "cell_type": "code",
   "execution_count": 292,
   "outputs": [
    {
     "name": "stdout",
     "output_type": "stream",
     "text": [
      "(0.3486012255792793, 1.756556494794709, 0.1758941230466079)\n"
     ]
    }
   ],
   "source": [
    "em, l1 = init()\n",
    "print(simulate_n_times(n_sim=100, em=em, l1=l1, la=0.2, n=8))"
   ],
   "metadata": {
    "collapsed": false,
    "ExecuteTime": {
     "end_time": "2024-01-02T19:23:01.957275600Z",
     "start_time": "2024-01-02T19:23:01.877967700Z"
    }
   }
  },
  {
   "cell_type": "code",
   "execution_count": 293,
   "outputs": [],
   "source": [
    "mask = pd.DataFrame(columns=['x0', 'lambda_customers', 't_k1', 'mu_k2', 't_k3', 'n_k2', 'lc*tk1', 'lc*mu2'],\n",
    "                    index=range(8))\n",
    "mask.iloc[:, 0] = 1\n",
    "mask.iloc[:, 1] = np.tile([1, -1], 4)\n",
    "mask.iloc[:, 2] = np.tile([1, 1, -1, -1], 2)\n",
    "mask.iloc[:, 3] = [1, 1, 1, 1, -1, -1, -1, -1]\n",
    "mask.iloc[:, 4] = mask.iloc[:, 1] * mask.iloc[:, 2] * mask.iloc[:, 3]\n",
    "mask.iloc[:, 5] = mask.iloc[:, 2] * mask.iloc[:, 3]"
   ],
   "metadata": {
    "collapsed": false,
    "ExecuteTime": {
     "end_time": "2024-01-02T19:23:02.030597800Z",
     "start_time": "2024-01-02T19:23:01.960266600Z"
    }
   }
  },
  {
   "cell_type": "code",
   "execution_count": 294,
   "outputs": [
    {
     "name": "stdout",
     "output_type": "stream",
     "text": [
      "    x0  lambda_customers  t_k1  mu_k2  t_k3  n_k2 lc*tk1 lc*mu2\n",
      "0    1                -1    -1     -1    -1    -1   None   None\n",
      "1    1                -1    -1     -1    -1     1   None   None\n",
      "2    1                -1    -1     -1     1    -1   None   None\n",
      "3    1                -1    -1     -1     1     1   None   None\n",
      "4    1                -1    -1      1    -1    -1   None   None\n",
      "5    1                -1    -1      1    -1     1   None   None\n",
      "6    1                -1    -1      1     1    -1   None   None\n",
      "7    1                -1    -1      1     1     1   None   None\n",
      "8    1                -1     1     -1    -1    -1   None   None\n",
      "9    1                -1     1     -1    -1     1   None   None\n",
      "10   1                -1     1     -1     1    -1   None   None\n",
      "11   1                -1     1     -1     1     1   None   None\n",
      "12   1                -1     1      1    -1    -1   None   None\n",
      "13   1                -1     1      1    -1     1   None   None\n",
      "14   1                -1     1      1     1    -1   None   None\n",
      "15   1                -1     1      1     1     1   None   None\n",
      "16   1                 1    -1     -1    -1    -1   None   None\n",
      "17   1                 1    -1     -1    -1     1   None   None\n",
      "18   1                 1    -1     -1     1    -1   None   None\n",
      "19   1                 1    -1     -1     1     1   None   None\n",
      "20   1                 1    -1      1    -1    -1   None   None\n",
      "21   1                 1    -1      1    -1     1   None   None\n",
      "22   1                 1    -1      1     1    -1   None   None\n",
      "23   1                 1    -1      1     1     1   None   None\n",
      "24   1                 1     1     -1    -1    -1   None   None\n",
      "25   1                 1     1     -1    -1     1   None   None\n",
      "26   1                 1     1     -1     1    -1   None   None\n",
      "27   1                 1     1     -1     1     1   None   None\n",
      "28   1                 1     1      1    -1    -1   None   None\n",
      "29   1                 1     1      1    -1     1   None   None\n",
      "30   1                 1     1      1     1    -1   None   None\n",
      "31   1                 1     1      1     1     1   None   None\n"
     ]
    }
   ],
   "source": [
    "# Comment to have a partial experiment\n",
    "\n",
    "mask = pd.DataFrame(columns=['lambda_customers', 't_k1', 'mu_k2', 't_k3', 'n_k2'],\n",
    "                    index=range(32),\n",
    "                    data=itertools.product([-1, 1], repeat=5))\n",
    "\n",
    "mask['x0'] = 1\n",
    "mask['lc*tk1'] = None\n",
    "mask['lc*mu2'] = None\n",
    "mask = mask.reindex(columns=['x0', 'lambda_customers', 't_k1', 'mu_k2', 't_k3', 'n_k2', 'lc*tk1', 'lc*mu2'])\n",
    "print(mask)"
   ],
   "metadata": {
    "collapsed": false,
    "ExecuteTime": {
     "end_time": "2024-01-02T19:23:02.045559100Z",
     "start_time": "2024-01-02T19:23:01.989192900Z"
    }
   }
  },
  {
   "cell_type": "code",
   "execution_count": 295,
   "outputs": [
    {
     "name": "stdout",
     "output_type": "stream",
     "text": [
      "    x0  lambda_customers  t_k1  mu_k2  t_k3  n_k2  lc*tk1  lc*mu2\n",
      "0    1                -1    -1     -1    -1    -1       1       1\n",
      "1    1                -1    -1     -1    -1     1       1       1\n",
      "2    1                -1    -1     -1     1    -1       1       1\n",
      "3    1                -1    -1     -1     1     1       1       1\n",
      "4    1                -1    -1      1    -1    -1       1      -1\n",
      "5    1                -1    -1      1    -1     1       1      -1\n",
      "6    1                -1    -1      1     1    -1       1      -1\n",
      "7    1                -1    -1      1     1     1       1      -1\n",
      "8    1                -1     1     -1    -1    -1      -1       1\n",
      "9    1                -1     1     -1    -1     1      -1       1\n",
      "10   1                -1     1     -1     1    -1      -1       1\n",
      "11   1                -1     1     -1     1     1      -1       1\n",
      "12   1                -1     1      1    -1    -1      -1      -1\n",
      "13   1                -1     1      1    -1     1      -1      -1\n",
      "14   1                -1     1      1     1    -1      -1      -1\n",
      "15   1                -1     1      1     1     1      -1      -1\n",
      "16   1                 1    -1     -1    -1    -1      -1      -1\n",
      "17   1                 1    -1     -1    -1     1      -1      -1\n",
      "18   1                 1    -1     -1     1    -1      -1      -1\n",
      "19   1                 1    -1     -1     1     1      -1      -1\n",
      "20   1                 1    -1      1    -1    -1      -1       1\n",
      "21   1                 1    -1      1    -1     1      -1       1\n",
      "22   1                 1    -1      1     1    -1      -1       1\n",
      "23   1                 1    -1      1     1     1      -1       1\n",
      "24   1                 1     1     -1    -1    -1       1      -1\n",
      "25   1                 1     1     -1    -1     1       1      -1\n",
      "26   1                 1     1     -1     1    -1       1      -1\n",
      "27   1                 1     1     -1     1     1       1      -1\n",
      "28   1                 1     1      1    -1    -1       1       1\n",
      "29   1                 1     1      1    -1     1       1       1\n",
      "30   1                 1     1      1     1    -1       1       1\n",
      "31   1                 1     1      1     1     1       1       1\n"
     ]
    }
   ],
   "source": [
    "mask.iloc[:, 6] = mask.iloc[:, 1] * mask.iloc[:, 2]\n",
    "mask.iloc[:, 7] = mask.iloc[:, 1] * mask.iloc[:, 3]\n",
    "print(mask)"
   ],
   "metadata": {
    "collapsed": false,
    "ExecuteTime": {
     "end_time": "2024-01-02T19:23:02.045559100Z",
     "start_time": "2024-01-02T19:23:02.030597800Z"
    }
   }
  },
  {
   "cell_type": "code",
   "execution_count": 296,
   "outputs": [
    {
     "data": {
      "text/plain": "           lambda_customers  t_k1   mu_k2  t_k3  n_k2  lc*tk1   lc*mu2\nmin                    0.10   1.0  0.1250   1.0  10.0    0.10  0.01250\nmax                    0.40   3.0  0.5000   3.0  20.0    1.20  0.20000\nhalf_diff              0.15   1.0  0.1875   1.0   5.0    0.55  0.09375\navg                    0.25   2.0  0.3125   2.0  15.0    0.65  0.10625",
      "text/html": "<div>\n<style scoped>\n    .dataframe tbody tr th:only-of-type {\n        vertical-align: middle;\n    }\n\n    .dataframe tbody tr th {\n        vertical-align: top;\n    }\n\n    .dataframe thead th {\n        text-align: right;\n    }\n</style>\n<table border=\"1\" class=\"dataframe\">\n  <thead>\n    <tr style=\"text-align: right;\">\n      <th></th>\n      <th>lambda_customers</th>\n      <th>t_k1</th>\n      <th>mu_k2</th>\n      <th>t_k3</th>\n      <th>n_k2</th>\n      <th>lc*tk1</th>\n      <th>lc*mu2</th>\n    </tr>\n  </thead>\n  <tbody>\n    <tr>\n      <th>min</th>\n      <td>0.10</td>\n      <td>1.0</td>\n      <td>0.1250</td>\n      <td>1.0</td>\n      <td>10.0</td>\n      <td>0.10</td>\n      <td>0.01250</td>\n    </tr>\n    <tr>\n      <th>max</th>\n      <td>0.40</td>\n      <td>3.0</td>\n      <td>0.5000</td>\n      <td>3.0</td>\n      <td>20.0</td>\n      <td>1.20</td>\n      <td>0.20000</td>\n    </tr>\n    <tr>\n      <th>half_diff</th>\n      <td>0.15</td>\n      <td>1.0</td>\n      <td>0.1875</td>\n      <td>1.0</td>\n      <td>5.0</td>\n      <td>0.55</td>\n      <td>0.09375</td>\n    </tr>\n    <tr>\n      <th>avg</th>\n      <td>0.25</td>\n      <td>2.0</td>\n      <td>0.3125</td>\n      <td>2.0</td>\n      <td>15.0</td>\n      <td>0.65</td>\n      <td>0.10625</td>\n    </tr>\n  </tbody>\n</table>\n</div>"
     },
     "execution_count": 296,
     "metadata": {},
     "output_type": "execute_result"
    }
   ],
   "source": [
    "translator = pd.DataFrame(columns=['lambda_customers', 't_k1', 'mu_k2', 't_k3', 'n_k2'],\n",
    "                          index=['min', 'max'],\n",
    "                          data=[[0.1, 1, 1 / 8, 1, 10],\n",
    "                                [0.4, 3, 1 / 2, 3, 20]])\n",
    "\n",
    "translator.loc[:, 'lc*tk1'] = translator.loc[:, 'lambda_customers'] * translator.loc[:, 't_k1']\n",
    "translator.loc[:, 'lc*mu2'] = translator.loc[:, 'lambda_customers'] * translator.loc[:, 'mu_k2']\n",
    "\n",
    "translator.loc['half_diff', :] = (translator.loc['max', :] - translator.loc['min', :]) / 2\n",
    "translator.loc['avg', :] = (translator.loc['max', :] + translator.loc['min', :]) / 2\n",
    "\n",
    "translator"
   ],
   "metadata": {
    "collapsed": false,
    "ExecuteTime": {
     "end_time": "2024-01-02T19:23:02.131845600Z",
     "start_time": "2024-01-02T19:23:02.035585600Z"
    }
   }
  },
  {
   "cell_type": "code",
   "execution_count": 297,
   "outputs": [
    {
     "data": {
      "text/plain": "    x0  lambda_customers  t_k1  mu_k2  t_k3  n_k2  lc*tk1  lc*mu2\n0    1               0.1   1.0  0.125   1.0  10.0     1.2  0.2000\n1    1               0.1   1.0  0.125   1.0  20.0     1.2  0.2000\n2    1               0.1   1.0  0.125   3.0  10.0     1.2  0.2000\n3    1               0.1   1.0  0.125   3.0  20.0     1.2  0.2000\n4    1               0.1   1.0  0.500   1.0  10.0     1.2  0.0125\n5    1               0.1   1.0  0.500   1.0  20.0     1.2  0.0125\n6    1               0.1   1.0  0.500   3.0  10.0     1.2  0.0125\n7    1               0.1   1.0  0.500   3.0  20.0     1.2  0.0125\n8    1               0.1   3.0  0.125   1.0  10.0     0.1  0.2000\n9    1               0.1   3.0  0.125   1.0  20.0     0.1  0.2000\n10   1               0.1   3.0  0.125   3.0  10.0     0.1  0.2000\n11   1               0.1   3.0  0.125   3.0  20.0     0.1  0.2000\n12   1               0.1   3.0  0.500   1.0  10.0     0.1  0.0125\n13   1               0.1   3.0  0.500   1.0  20.0     0.1  0.0125\n14   1               0.1   3.0  0.500   3.0  10.0     0.1  0.0125\n15   1               0.1   3.0  0.500   3.0  20.0     0.1  0.0125\n16   1               0.4   1.0  0.125   1.0  10.0     0.1  0.0125\n17   1               0.4   1.0  0.125   1.0  20.0     0.1  0.0125\n18   1               0.4   1.0  0.125   3.0  10.0     0.1  0.0125\n19   1               0.4   1.0  0.125   3.0  20.0     0.1  0.0125\n20   1               0.4   1.0  0.500   1.0  10.0     0.1  0.2000\n21   1               0.4   1.0  0.500   1.0  20.0     0.1  0.2000\n22   1               0.4   1.0  0.500   3.0  10.0     0.1  0.2000\n23   1               0.4   1.0  0.500   3.0  20.0     0.1  0.2000\n24   1               0.4   3.0  0.125   1.0  10.0     1.2  0.0125\n25   1               0.4   3.0  0.125   1.0  20.0     1.2  0.0125\n26   1               0.4   3.0  0.125   3.0  10.0     1.2  0.0125\n27   1               0.4   3.0  0.125   3.0  20.0     1.2  0.0125\n28   1               0.4   3.0  0.500   1.0  10.0     1.2  0.2000\n29   1               0.4   3.0  0.500   1.0  20.0     1.2  0.2000\n30   1               0.4   3.0  0.500   3.0  10.0     1.2  0.2000\n31   1               0.4   3.0  0.500   3.0  20.0     1.2  0.2000",
      "text/html": "<div>\n<style scoped>\n    .dataframe tbody tr th:only-of-type {\n        vertical-align: middle;\n    }\n\n    .dataframe tbody tr th {\n        vertical-align: top;\n    }\n\n    .dataframe thead th {\n        text-align: right;\n    }\n</style>\n<table border=\"1\" class=\"dataframe\">\n  <thead>\n    <tr style=\"text-align: right;\">\n      <th></th>\n      <th>x0</th>\n      <th>lambda_customers</th>\n      <th>t_k1</th>\n      <th>mu_k2</th>\n      <th>t_k3</th>\n      <th>n_k2</th>\n      <th>lc*tk1</th>\n      <th>lc*mu2</th>\n    </tr>\n  </thead>\n  <tbody>\n    <tr>\n      <th>0</th>\n      <td>1</td>\n      <td>0.1</td>\n      <td>1.0</td>\n      <td>0.125</td>\n      <td>1.0</td>\n      <td>10.0</td>\n      <td>1.2</td>\n      <td>0.2000</td>\n    </tr>\n    <tr>\n      <th>1</th>\n      <td>1</td>\n      <td>0.1</td>\n      <td>1.0</td>\n      <td>0.125</td>\n      <td>1.0</td>\n      <td>20.0</td>\n      <td>1.2</td>\n      <td>0.2000</td>\n    </tr>\n    <tr>\n      <th>2</th>\n      <td>1</td>\n      <td>0.1</td>\n      <td>1.0</td>\n      <td>0.125</td>\n      <td>3.0</td>\n      <td>10.0</td>\n      <td>1.2</td>\n      <td>0.2000</td>\n    </tr>\n    <tr>\n      <th>3</th>\n      <td>1</td>\n      <td>0.1</td>\n      <td>1.0</td>\n      <td>0.125</td>\n      <td>3.0</td>\n      <td>20.0</td>\n      <td>1.2</td>\n      <td>0.2000</td>\n    </tr>\n    <tr>\n      <th>4</th>\n      <td>1</td>\n      <td>0.1</td>\n      <td>1.0</td>\n      <td>0.500</td>\n      <td>1.0</td>\n      <td>10.0</td>\n      <td>1.2</td>\n      <td>0.0125</td>\n    </tr>\n    <tr>\n      <th>5</th>\n      <td>1</td>\n      <td>0.1</td>\n      <td>1.0</td>\n      <td>0.500</td>\n      <td>1.0</td>\n      <td>20.0</td>\n      <td>1.2</td>\n      <td>0.0125</td>\n    </tr>\n    <tr>\n      <th>6</th>\n      <td>1</td>\n      <td>0.1</td>\n      <td>1.0</td>\n      <td>0.500</td>\n      <td>3.0</td>\n      <td>10.0</td>\n      <td>1.2</td>\n      <td>0.0125</td>\n    </tr>\n    <tr>\n      <th>7</th>\n      <td>1</td>\n      <td>0.1</td>\n      <td>1.0</td>\n      <td>0.500</td>\n      <td>3.0</td>\n      <td>20.0</td>\n      <td>1.2</td>\n      <td>0.0125</td>\n    </tr>\n    <tr>\n      <th>8</th>\n      <td>1</td>\n      <td>0.1</td>\n      <td>3.0</td>\n      <td>0.125</td>\n      <td>1.0</td>\n      <td>10.0</td>\n      <td>0.1</td>\n      <td>0.2000</td>\n    </tr>\n    <tr>\n      <th>9</th>\n      <td>1</td>\n      <td>0.1</td>\n      <td>3.0</td>\n      <td>0.125</td>\n      <td>1.0</td>\n      <td>20.0</td>\n      <td>0.1</td>\n      <td>0.2000</td>\n    </tr>\n    <tr>\n      <th>10</th>\n      <td>1</td>\n      <td>0.1</td>\n      <td>3.0</td>\n      <td>0.125</td>\n      <td>3.0</td>\n      <td>10.0</td>\n      <td>0.1</td>\n      <td>0.2000</td>\n    </tr>\n    <tr>\n      <th>11</th>\n      <td>1</td>\n      <td>0.1</td>\n      <td>3.0</td>\n      <td>0.125</td>\n      <td>3.0</td>\n      <td>20.0</td>\n      <td>0.1</td>\n      <td>0.2000</td>\n    </tr>\n    <tr>\n      <th>12</th>\n      <td>1</td>\n      <td>0.1</td>\n      <td>3.0</td>\n      <td>0.500</td>\n      <td>1.0</td>\n      <td>10.0</td>\n      <td>0.1</td>\n      <td>0.0125</td>\n    </tr>\n    <tr>\n      <th>13</th>\n      <td>1</td>\n      <td>0.1</td>\n      <td>3.0</td>\n      <td>0.500</td>\n      <td>1.0</td>\n      <td>20.0</td>\n      <td>0.1</td>\n      <td>0.0125</td>\n    </tr>\n    <tr>\n      <th>14</th>\n      <td>1</td>\n      <td>0.1</td>\n      <td>3.0</td>\n      <td>0.500</td>\n      <td>3.0</td>\n      <td>10.0</td>\n      <td>0.1</td>\n      <td>0.0125</td>\n    </tr>\n    <tr>\n      <th>15</th>\n      <td>1</td>\n      <td>0.1</td>\n      <td>3.0</td>\n      <td>0.500</td>\n      <td>3.0</td>\n      <td>20.0</td>\n      <td>0.1</td>\n      <td>0.0125</td>\n    </tr>\n    <tr>\n      <th>16</th>\n      <td>1</td>\n      <td>0.4</td>\n      <td>1.0</td>\n      <td>0.125</td>\n      <td>1.0</td>\n      <td>10.0</td>\n      <td>0.1</td>\n      <td>0.0125</td>\n    </tr>\n    <tr>\n      <th>17</th>\n      <td>1</td>\n      <td>0.4</td>\n      <td>1.0</td>\n      <td>0.125</td>\n      <td>1.0</td>\n      <td>20.0</td>\n      <td>0.1</td>\n      <td>0.0125</td>\n    </tr>\n    <tr>\n      <th>18</th>\n      <td>1</td>\n      <td>0.4</td>\n      <td>1.0</td>\n      <td>0.125</td>\n      <td>3.0</td>\n      <td>10.0</td>\n      <td>0.1</td>\n      <td>0.0125</td>\n    </tr>\n    <tr>\n      <th>19</th>\n      <td>1</td>\n      <td>0.4</td>\n      <td>1.0</td>\n      <td>0.125</td>\n      <td>3.0</td>\n      <td>20.0</td>\n      <td>0.1</td>\n      <td>0.0125</td>\n    </tr>\n    <tr>\n      <th>20</th>\n      <td>1</td>\n      <td>0.4</td>\n      <td>1.0</td>\n      <td>0.500</td>\n      <td>1.0</td>\n      <td>10.0</td>\n      <td>0.1</td>\n      <td>0.2000</td>\n    </tr>\n    <tr>\n      <th>21</th>\n      <td>1</td>\n      <td>0.4</td>\n      <td>1.0</td>\n      <td>0.500</td>\n      <td>1.0</td>\n      <td>20.0</td>\n      <td>0.1</td>\n      <td>0.2000</td>\n    </tr>\n    <tr>\n      <th>22</th>\n      <td>1</td>\n      <td>0.4</td>\n      <td>1.0</td>\n      <td>0.500</td>\n      <td>3.0</td>\n      <td>10.0</td>\n      <td>0.1</td>\n      <td>0.2000</td>\n    </tr>\n    <tr>\n      <th>23</th>\n      <td>1</td>\n      <td>0.4</td>\n      <td>1.0</td>\n      <td>0.500</td>\n      <td>3.0</td>\n      <td>20.0</td>\n      <td>0.1</td>\n      <td>0.2000</td>\n    </tr>\n    <tr>\n      <th>24</th>\n      <td>1</td>\n      <td>0.4</td>\n      <td>3.0</td>\n      <td>0.125</td>\n      <td>1.0</td>\n      <td>10.0</td>\n      <td>1.2</td>\n      <td>0.0125</td>\n    </tr>\n    <tr>\n      <th>25</th>\n      <td>1</td>\n      <td>0.4</td>\n      <td>3.0</td>\n      <td>0.125</td>\n      <td>1.0</td>\n      <td>20.0</td>\n      <td>1.2</td>\n      <td>0.0125</td>\n    </tr>\n    <tr>\n      <th>26</th>\n      <td>1</td>\n      <td>0.4</td>\n      <td>3.0</td>\n      <td>0.125</td>\n      <td>3.0</td>\n      <td>10.0</td>\n      <td>1.2</td>\n      <td>0.0125</td>\n    </tr>\n    <tr>\n      <th>27</th>\n      <td>1</td>\n      <td>0.4</td>\n      <td>3.0</td>\n      <td>0.125</td>\n      <td>3.0</td>\n      <td>20.0</td>\n      <td>1.2</td>\n      <td>0.0125</td>\n    </tr>\n    <tr>\n      <th>28</th>\n      <td>1</td>\n      <td>0.4</td>\n      <td>3.0</td>\n      <td>0.500</td>\n      <td>1.0</td>\n      <td>10.0</td>\n      <td>1.2</td>\n      <td>0.2000</td>\n    </tr>\n    <tr>\n      <th>29</th>\n      <td>1</td>\n      <td>0.4</td>\n      <td>3.0</td>\n      <td>0.500</td>\n      <td>1.0</td>\n      <td>20.0</td>\n      <td>1.2</td>\n      <td>0.2000</td>\n    </tr>\n    <tr>\n      <th>30</th>\n      <td>1</td>\n      <td>0.4</td>\n      <td>3.0</td>\n      <td>0.500</td>\n      <td>3.0</td>\n      <td>10.0</td>\n      <td>1.2</td>\n      <td>0.2000</td>\n    </tr>\n    <tr>\n      <th>31</th>\n      <td>1</td>\n      <td>0.4</td>\n      <td>3.0</td>\n      <td>0.500</td>\n      <td>3.0</td>\n      <td>20.0</td>\n      <td>1.2</td>\n      <td>0.2000</td>\n    </tr>\n  </tbody>\n</table>\n</div>"
     },
     "execution_count": 297,
     "metadata": {},
     "output_type": "execute_result"
    }
   ],
   "source": [
    "unmasked_values = translator.loc['half_diff', :] * mask + translator.loc['avg', :]\n",
    "unmasked_values['x0'] = 1\n",
    "unmasked_values = unmasked_values.reindex(\n",
    "    columns=['x0', 'lambda_customers', 't_k1', 'mu_k2', 't_k3', 'n_k2', 'lc*tk1', 'lc*mu2'])\n",
    "unmasked_values"
   ],
   "metadata": {
    "collapsed": false,
    "ExecuteTime": {
     "end_time": "2024-01-02T19:23:02.132843200Z",
     "start_time": "2024-01-02T19:23:02.085456500Z"
    }
   }
  },
  {
   "cell_type": "code",
   "execution_count": 298,
   "outputs": [
    {
     "data": {
      "text/plain": "    x0  lambda_customers  t_k1  mu_k2  t_k3  n_k2  lc*tk1  lc*mu2  \\\n0    1               0.1   1.0  0.125   1.0  10.0     1.2  0.2000   \n1    1               0.1   1.0  0.125   1.0  20.0     1.2  0.2000   \n2    1               0.1   1.0  0.125   3.0  10.0     1.2  0.2000   \n3    1               0.1   1.0  0.125   3.0  20.0     1.2  0.2000   \n4    1               0.1   1.0  0.500   1.0  10.0     1.2  0.0125   \n5    1               0.1   1.0  0.500   1.0  20.0     1.2  0.0125   \n6    1               0.1   1.0  0.500   3.0  10.0     1.2  0.0125   \n7    1               0.1   1.0  0.500   3.0  20.0     1.2  0.0125   \n8    1               0.1   3.0  0.125   1.0  10.0     0.1  0.2000   \n9    1               0.1   3.0  0.125   1.0  20.0     0.1  0.2000   \n10   1               0.1   3.0  0.125   3.0  10.0     0.1  0.2000   \n11   1               0.1   3.0  0.125   3.0  20.0     0.1  0.2000   \n12   1               0.1   3.0  0.500   1.0  10.0     0.1  0.0125   \n13   1               0.1   3.0  0.500   1.0  20.0     0.1  0.0125   \n14   1               0.1   3.0  0.500   3.0  10.0     0.1  0.0125   \n15   1               0.1   3.0  0.500   3.0  20.0     0.1  0.0125   \n16   1               0.4   1.0  0.125   1.0  10.0     0.1  0.0125   \n17   1               0.4   1.0  0.125   1.0  20.0     0.1  0.0125   \n18   1               0.4   1.0  0.125   3.0  10.0     0.1  0.0125   \n19   1               0.4   1.0  0.125   3.0  20.0     0.1  0.0125   \n20   1               0.4   1.0  0.500   1.0  10.0     0.1  0.2000   \n21   1               0.4   1.0  0.500   1.0  20.0     0.1  0.2000   \n22   1               0.4   1.0  0.500   3.0  10.0     0.1  0.2000   \n23   1               0.4   1.0  0.500   3.0  20.0     0.1  0.2000   \n24   1               0.4   3.0  0.125   1.0  10.0     1.2  0.0125   \n25   1               0.4   3.0  0.125   1.0  20.0     1.2  0.0125   \n26   1               0.4   3.0  0.125   3.0  10.0     1.2  0.0125   \n27   1               0.4   3.0  0.125   3.0  20.0     1.2  0.0125   \n28   1               0.4   3.0  0.500   1.0  10.0     1.2  0.2000   \n29   1               0.4   3.0  0.500   1.0  20.0     1.2  0.2000   \n30   1               0.4   3.0  0.500   3.0  10.0     1.2  0.2000   \n31   1               0.4   3.0  0.500   3.0  20.0     1.2  0.2000   \n\n    avg_wait_time  \n0       16.289378  \n1       20.570214  \n2       19.046584  \n3       19.510535  \n4        0.264648  \n5        0.266130  \n6        0.345242  \n7        0.349545  \n8        8.147948  \n9        8.692225  \n10       9.230008  \n11       9.359078  \n12       0.085600  \n13       0.095128  \n14       0.088129  \n15       0.091577  \n16      72.527162  \n17     137.902886  \n18      76.425365  \n19     147.723070  \n20       2.039002  \n21       2.028715  \n22      13.618317  \n23      21.105513  \n24      64.579449  \n25     121.759465  \n26      69.296884  \n27     130.903565  \n28       0.305287  \n29       0.308782  \n30       0.439469  \n31       0.449255  ",
      "text/html": "<div>\n<style scoped>\n    .dataframe tbody tr th:only-of-type {\n        vertical-align: middle;\n    }\n\n    .dataframe tbody tr th {\n        vertical-align: top;\n    }\n\n    .dataframe thead th {\n        text-align: right;\n    }\n</style>\n<table border=\"1\" class=\"dataframe\">\n  <thead>\n    <tr style=\"text-align: right;\">\n      <th></th>\n      <th>x0</th>\n      <th>lambda_customers</th>\n      <th>t_k1</th>\n      <th>mu_k2</th>\n      <th>t_k3</th>\n      <th>n_k2</th>\n      <th>lc*tk1</th>\n      <th>lc*mu2</th>\n      <th>avg_wait_time</th>\n    </tr>\n  </thead>\n  <tbody>\n    <tr>\n      <th>0</th>\n      <td>1</td>\n      <td>0.1</td>\n      <td>1.0</td>\n      <td>0.125</td>\n      <td>1.0</td>\n      <td>10.0</td>\n      <td>1.2</td>\n      <td>0.2000</td>\n      <td>16.289378</td>\n    </tr>\n    <tr>\n      <th>1</th>\n      <td>1</td>\n      <td>0.1</td>\n      <td>1.0</td>\n      <td>0.125</td>\n      <td>1.0</td>\n      <td>20.0</td>\n      <td>1.2</td>\n      <td>0.2000</td>\n      <td>20.570214</td>\n    </tr>\n    <tr>\n      <th>2</th>\n      <td>1</td>\n      <td>0.1</td>\n      <td>1.0</td>\n      <td>0.125</td>\n      <td>3.0</td>\n      <td>10.0</td>\n      <td>1.2</td>\n      <td>0.2000</td>\n      <td>19.046584</td>\n    </tr>\n    <tr>\n      <th>3</th>\n      <td>1</td>\n      <td>0.1</td>\n      <td>1.0</td>\n      <td>0.125</td>\n      <td>3.0</td>\n      <td>20.0</td>\n      <td>1.2</td>\n      <td>0.2000</td>\n      <td>19.510535</td>\n    </tr>\n    <tr>\n      <th>4</th>\n      <td>1</td>\n      <td>0.1</td>\n      <td>1.0</td>\n      <td>0.500</td>\n      <td>1.0</td>\n      <td>10.0</td>\n      <td>1.2</td>\n      <td>0.0125</td>\n      <td>0.264648</td>\n    </tr>\n    <tr>\n      <th>5</th>\n      <td>1</td>\n      <td>0.1</td>\n      <td>1.0</td>\n      <td>0.500</td>\n      <td>1.0</td>\n      <td>20.0</td>\n      <td>1.2</td>\n      <td>0.0125</td>\n      <td>0.266130</td>\n    </tr>\n    <tr>\n      <th>6</th>\n      <td>1</td>\n      <td>0.1</td>\n      <td>1.0</td>\n      <td>0.500</td>\n      <td>3.0</td>\n      <td>10.0</td>\n      <td>1.2</td>\n      <td>0.0125</td>\n      <td>0.345242</td>\n    </tr>\n    <tr>\n      <th>7</th>\n      <td>1</td>\n      <td>0.1</td>\n      <td>1.0</td>\n      <td>0.500</td>\n      <td>3.0</td>\n      <td>20.0</td>\n      <td>1.2</td>\n      <td>0.0125</td>\n      <td>0.349545</td>\n    </tr>\n    <tr>\n      <th>8</th>\n      <td>1</td>\n      <td>0.1</td>\n      <td>3.0</td>\n      <td>0.125</td>\n      <td>1.0</td>\n      <td>10.0</td>\n      <td>0.1</td>\n      <td>0.2000</td>\n      <td>8.147948</td>\n    </tr>\n    <tr>\n      <th>9</th>\n      <td>1</td>\n      <td>0.1</td>\n      <td>3.0</td>\n      <td>0.125</td>\n      <td>1.0</td>\n      <td>20.0</td>\n      <td>0.1</td>\n      <td>0.2000</td>\n      <td>8.692225</td>\n    </tr>\n    <tr>\n      <th>10</th>\n      <td>1</td>\n      <td>0.1</td>\n      <td>3.0</td>\n      <td>0.125</td>\n      <td>3.0</td>\n      <td>10.0</td>\n      <td>0.1</td>\n      <td>0.2000</td>\n      <td>9.230008</td>\n    </tr>\n    <tr>\n      <th>11</th>\n      <td>1</td>\n      <td>0.1</td>\n      <td>3.0</td>\n      <td>0.125</td>\n      <td>3.0</td>\n      <td>20.0</td>\n      <td>0.1</td>\n      <td>0.2000</td>\n      <td>9.359078</td>\n    </tr>\n    <tr>\n      <th>12</th>\n      <td>1</td>\n      <td>0.1</td>\n      <td>3.0</td>\n      <td>0.500</td>\n      <td>1.0</td>\n      <td>10.0</td>\n      <td>0.1</td>\n      <td>0.0125</td>\n      <td>0.085600</td>\n    </tr>\n    <tr>\n      <th>13</th>\n      <td>1</td>\n      <td>0.1</td>\n      <td>3.0</td>\n      <td>0.500</td>\n      <td>1.0</td>\n      <td>20.0</td>\n      <td>0.1</td>\n      <td>0.0125</td>\n      <td>0.095128</td>\n    </tr>\n    <tr>\n      <th>14</th>\n      <td>1</td>\n      <td>0.1</td>\n      <td>3.0</td>\n      <td>0.500</td>\n      <td>3.0</td>\n      <td>10.0</td>\n      <td>0.1</td>\n      <td>0.0125</td>\n      <td>0.088129</td>\n    </tr>\n    <tr>\n      <th>15</th>\n      <td>1</td>\n      <td>0.1</td>\n      <td>3.0</td>\n      <td>0.500</td>\n      <td>3.0</td>\n      <td>20.0</td>\n      <td>0.1</td>\n      <td>0.0125</td>\n      <td>0.091577</td>\n    </tr>\n    <tr>\n      <th>16</th>\n      <td>1</td>\n      <td>0.4</td>\n      <td>1.0</td>\n      <td>0.125</td>\n      <td>1.0</td>\n      <td>10.0</td>\n      <td>0.1</td>\n      <td>0.0125</td>\n      <td>72.527162</td>\n    </tr>\n    <tr>\n      <th>17</th>\n      <td>1</td>\n      <td>0.4</td>\n      <td>1.0</td>\n      <td>0.125</td>\n      <td>1.0</td>\n      <td>20.0</td>\n      <td>0.1</td>\n      <td>0.0125</td>\n      <td>137.902886</td>\n    </tr>\n    <tr>\n      <th>18</th>\n      <td>1</td>\n      <td>0.4</td>\n      <td>1.0</td>\n      <td>0.125</td>\n      <td>3.0</td>\n      <td>10.0</td>\n      <td>0.1</td>\n      <td>0.0125</td>\n      <td>76.425365</td>\n    </tr>\n    <tr>\n      <th>19</th>\n      <td>1</td>\n      <td>0.4</td>\n      <td>1.0</td>\n      <td>0.125</td>\n      <td>3.0</td>\n      <td>20.0</td>\n      <td>0.1</td>\n      <td>0.0125</td>\n      <td>147.723070</td>\n    </tr>\n    <tr>\n      <th>20</th>\n      <td>1</td>\n      <td>0.4</td>\n      <td>1.0</td>\n      <td>0.500</td>\n      <td>1.0</td>\n      <td>10.0</td>\n      <td>0.1</td>\n      <td>0.2000</td>\n      <td>2.039002</td>\n    </tr>\n    <tr>\n      <th>21</th>\n      <td>1</td>\n      <td>0.4</td>\n      <td>1.0</td>\n      <td>0.500</td>\n      <td>1.0</td>\n      <td>20.0</td>\n      <td>0.1</td>\n      <td>0.2000</td>\n      <td>2.028715</td>\n    </tr>\n    <tr>\n      <th>22</th>\n      <td>1</td>\n      <td>0.4</td>\n      <td>1.0</td>\n      <td>0.500</td>\n      <td>3.0</td>\n      <td>10.0</td>\n      <td>0.1</td>\n      <td>0.2000</td>\n      <td>13.618317</td>\n    </tr>\n    <tr>\n      <th>23</th>\n      <td>1</td>\n      <td>0.4</td>\n      <td>1.0</td>\n      <td>0.500</td>\n      <td>3.0</td>\n      <td>20.0</td>\n      <td>0.1</td>\n      <td>0.2000</td>\n      <td>21.105513</td>\n    </tr>\n    <tr>\n      <th>24</th>\n      <td>1</td>\n      <td>0.4</td>\n      <td>3.0</td>\n      <td>0.125</td>\n      <td>1.0</td>\n      <td>10.0</td>\n      <td>1.2</td>\n      <td>0.0125</td>\n      <td>64.579449</td>\n    </tr>\n    <tr>\n      <th>25</th>\n      <td>1</td>\n      <td>0.4</td>\n      <td>3.0</td>\n      <td>0.125</td>\n      <td>1.0</td>\n      <td>20.0</td>\n      <td>1.2</td>\n      <td>0.0125</td>\n      <td>121.759465</td>\n    </tr>\n    <tr>\n      <th>26</th>\n      <td>1</td>\n      <td>0.4</td>\n      <td>3.0</td>\n      <td>0.125</td>\n      <td>3.0</td>\n      <td>10.0</td>\n      <td>1.2</td>\n      <td>0.0125</td>\n      <td>69.296884</td>\n    </tr>\n    <tr>\n      <th>27</th>\n      <td>1</td>\n      <td>0.4</td>\n      <td>3.0</td>\n      <td>0.125</td>\n      <td>3.0</td>\n      <td>20.0</td>\n      <td>1.2</td>\n      <td>0.0125</td>\n      <td>130.903565</td>\n    </tr>\n    <tr>\n      <th>28</th>\n      <td>1</td>\n      <td>0.4</td>\n      <td>3.0</td>\n      <td>0.500</td>\n      <td>1.0</td>\n      <td>10.0</td>\n      <td>1.2</td>\n      <td>0.2000</td>\n      <td>0.305287</td>\n    </tr>\n    <tr>\n      <th>29</th>\n      <td>1</td>\n      <td>0.4</td>\n      <td>3.0</td>\n      <td>0.500</td>\n      <td>1.0</td>\n      <td>20.0</td>\n      <td>1.2</td>\n      <td>0.2000</td>\n      <td>0.308782</td>\n    </tr>\n    <tr>\n      <th>30</th>\n      <td>1</td>\n      <td>0.4</td>\n      <td>3.0</td>\n      <td>0.500</td>\n      <td>3.0</td>\n      <td>10.0</td>\n      <td>1.2</td>\n      <td>0.2000</td>\n      <td>0.439469</td>\n    </tr>\n    <tr>\n      <th>31</th>\n      <td>1</td>\n      <td>0.4</td>\n      <td>3.0</td>\n      <td>0.500</td>\n      <td>3.0</td>\n      <td>20.0</td>\n      <td>1.2</td>\n      <td>0.2000</td>\n      <td>0.449255</td>\n    </tr>\n  </tbody>\n</table>\n</div>"
     },
     "execution_count": 298,
     "metadata": {},
     "output_type": "execute_result"
    }
   ],
   "source": [
    "results = []\n",
    "for index, row in unmasked_values.iterrows():\n",
    "    lambda_customers = row['lambda_customers']\n",
    "    t_k1 = row['t_k1']\n",
    "    mu_k2 = row['mu_k2']\n",
    "    t_k3 = row['t_k3']\n",
    "    n_k2 = row['n_k2']\n",
    "\n",
    "    em, l1 = init(t_k1=t_k1, mu_k2=mu_k2, t_k3=t_k3, capacity_q2=n_k2)\n",
    "    result = simulate_n_times(n_sim=100, em=em, l1=l1, la=lambda_customers, n=500)\n",
    "\n",
    "    results.append(result)\n",
    "\n",
    "# results_df = pd.DataFrame(results, columns=['rejection_rate', 'avg_wait_time', 'avg_q_len'])\n",
    "results_df = pd.Series([r[1] for r in results], name='avg_wait_time')\n",
    "df = pd.concat([unmasked_values, results_df], axis=1)\n",
    "df"
   ],
   "metadata": {
    "collapsed": false,
    "ExecuteTime": {
     "end_time": "2024-01-02T19:30:23.579794500Z",
     "start_time": "2024-01-02T19:23:02.135835800Z"
    }
   }
  },
  {
   "cell_type": "code",
   "execution_count": 299,
   "outputs": [],
   "source": [
    "X = df.iloc[:, :-1]\n",
    "y = df.iloc[:, -1]"
   ],
   "metadata": {
    "collapsed": false,
    "ExecuteTime": {
     "end_time": "2024-01-02T19:30:23.695481500Z",
     "start_time": "2024-01-02T19:30:23.582786700Z"
    }
   }
  },
  {
   "cell_type": "code",
   "execution_count": 300,
   "outputs": [
    {
     "name": "stdout",
     "output_type": "stream",
     "text": [
      "                            OLS Regression Results                            \n",
      "==============================================================================\n",
      "Dep. Variable:          avg_wait_time   R-squared:                       0.904\n",
      "Model:                            OLS   Adj. R-squared:                  0.876\n",
      "Method:                 Least Squares   F-statistic:                     32.22\n",
      "Date:                Tue, 02 Jan 2024   Prob (F-statistic):           1.04e-10\n",
      "Time:                        21:30:23   Log-Likelihood:                -129.96\n",
      "No. Observations:                  32   AIC:                             275.9\n",
      "Df Residuals:                      24   BIC:                             287.6\n",
      "Df Model:                           7                                         \n",
      "Covariance Type:            nonrobust                                         \n",
      "====================================================================================\n",
      "                       coef    std err          t      P>|t|      [0.025      0.975]\n",
      "------------------------------------------------------------------------------------\n",
      "x0                  42.0513     14.684      2.864      0.009      11.745      72.357\n",
      "lambda_customers   156.0375     19.111      8.165      0.000     116.594     195.482\n",
      "t_k1                -3.9431      2.867     -1.375      0.182      -9.860       1.973\n",
      "mu_k2             -148.3472     15.289     -9.703      0.000    -179.902    -116.792\n",
      "t_k3                 1.9413      2.867      0.677      0.505      -3.975       7.858\n",
      "n_k2                 1.6774      0.573      2.926      0.007       0.494       2.861\n",
      "lc*tk1              -2.5270      5.212     -0.485      0.632     -13.284       8.230\n",
      "lc*mu2            -223.8545     30.578     -7.321      0.000    -286.965    -160.744\n",
      "==============================================================================\n",
      "Omnibus:                        0.444   Durbin-Watson:                   3.217\n",
      "Prob(Omnibus):                  0.801   Jarque-Bera (JB):                0.566\n",
      "Skew:                           0.017   Prob(JB):                        0.753\n",
      "Kurtosis:                       2.349   Cond. No.                         173.\n",
      "==============================================================================\n",
      "\n",
      "Notes:\n",
      "[1] Standard Errors assume that the covariance matrix of the errors is correctly specified.\n"
     ]
    }
   ],
   "source": [
    "print(sm.OLS(y, X).fit().summary())"
   ],
   "metadata": {
    "collapsed": false,
    "ExecuteTime": {
     "end_time": "2024-01-02T19:30:23.718425300Z",
     "start_time": "2024-01-02T19:30:23.602212400Z"
    }
   }
  }
 ],
 "metadata": {
  "kernelspec": {
   "display_name": "Python 3",
   "language": "python",
   "name": "python3"
  },
  "language_info": {
   "codemirror_mode": {
    "name": "ipython",
    "version": 2
   },
   "file_extension": ".py",
   "mimetype": "text/x-python",
   "name": "python",
   "nbconvert_exporter": "python",
   "pygments_lexer": "ipython2",
   "version": "2.7.6"
  }
 },
 "nbformat": 4,
 "nbformat_minor": 0
}
